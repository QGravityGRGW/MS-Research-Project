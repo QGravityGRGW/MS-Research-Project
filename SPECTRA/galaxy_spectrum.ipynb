{
 "cells": [
  {
   "cell_type": "code",
   "execution_count": 45,
   "metadata": {},
   "outputs": [],
   "source": [
    "import numpy as np\n",
    "import matplotlib.pyplot as plt\n",
    "from matplotlib.widgets import Button"
   ]
  },
  {
   "cell_type": "code",
   "execution_count": 46,
   "metadata": {},
   "outputs": [],
   "source": [
    "a = np.genfromtxt('1-G1_176-145.txt')\n",
    "l = a[:,0]\n",
    "fl = a[:,1]"
   ]
  },
  {
   "cell_type": "code",
   "execution_count": 47,
   "metadata": {},
   "outputs": [
    {
     "data": {
      "text/plain": [
       "Text(0.5, 1.0, 'Spectral Analysis')"
      ]
     },
     "execution_count": 47,
     "metadata": {},
     "output_type": "execute_result"
    },
    {
     "data": {
      "image/png": "[encoded data removed]",
      "text/plain": [
       "<Figure size 432x288 with 1 Axes>"
      ]
     },
     "metadata": {
      "needs_background": "light"
     },
     "output_type": "display_data"
    }
   ],
   "source": [
    "plt.subplots_adjust(bottom=0.2)\n",
    "f1 = plt.figure(1)\n",
    "ax = f1.add_subplot(111)\n",
    "ax.step(l, fl)\n",
    "#ax.set_xlim(4700, 6400)\n",
    "ax.set_xlim(4750, 5020)\n",
    "#plt.gca().set_xlim(right=6400)\n",
    "ax.set_ylim(500,7000)\n",
    "ax.set_xlabel('Wavelength (Ang)')\n",
    "ax.set_ylabel('Flux (1e-20 erg Ang$^{-1}$ cm$^{-2}$ s$^{-1}$)')\n",
    "#ax.set_ylabel('Flux')\n",
    "ax.set_title('Spectral Analysis')\n",
    "#ax.grid()"
   ]
  },
  {
   "cell_type": "code",
   "execution_count": 48,
   "metadata": {},
   "outputs": [
    {
     "data": {
      "image/png": "[encoded data removed]",
      "text/plain": [
       "<Figure size 432x288 with 1 Axes>"
      ]
     },
     "metadata": {},
     "output_type": "display_data"
    }
   ],
   "source": [
    "def redshift(x):\n",
    "    z = 0.0\n",
    "    z = (x[0] / b) - 1\n",
    "    return z    \n",
    "    \n",
    "#def onclick(event):\n",
    "#    global ix, iy\n",
    "#    ix, iy=event.xdata,event.ydata\n",
    "#    print(ix,iy)\n",
    "#    x = plt.ginput(1)\n",
    "#    print(\"The points are: \", x)\n",
    "#    print(\"Redshift is: \", redshift(x))\n",
    "#    #print(\"error in eq.width is: \", np.abs(error(y,l,Fl,Sf,Fc)))\n",
    "    \n",
    "#def next(event):\n",
    "#    b=x.get_xlim()\n",
    "#    x.set_xlim(b[0]+40,b[1]+40)\n",
    "#    plt.draw()\n",
    "\n",
    "#def prev(event):\n",
    "#    b=x.get_xlim()\n",
    "#    x.set_xlim(b[0]-40,b[1]-40)\n",
    "#    plt.draw()\n",
    "\n",
    "def clk(event):\n",
    "    x = plt.ginput(1)\n",
    "    print(x)\n",
    "    print(\"Redshift is: \", redshift(x[0]))\n",
    "\n",
    "#cid = f1.canvas.mpl_connect('button_press_event', clk)\n",
    "#axprev = plt.axes([0.7, 0.05, 0.1, 0.075])\n",
    "#axnext = plt.axes([0.81, 0.05, 0.1, 0.075])\n",
    "axcl = plt.axes([0.1, 0.05, 0.3, 0.075])\n",
    "#bnext = Button(axnext, 'Next')\n",
    "#bnext.on_clicked(next)\n",
    "#bprev = Button(axprev, 'Previous')\n",
    "#bprev.on_clicked(prev)\n",
    "clck = Button(axcl, 'Click here for redshift ')\n",
    "clck.on_clicked(clk)\n",
    "\n",
    "plt.show()"
   ]
  },
  {
   "cell_type": "markdown",
   "metadata": {},
   "source": []
  },
  {
   "cell_type": "code",
   "execution_count": null,
   "metadata": {},
   "outputs": [],
   "source": []
  }
 ],
 "metadata": {
  "kernelspec": {
   "display_name": "Python 3",
   "language": "python",
   "name": "python3"
  },
  "language_info": {
   "codemirror_mode": {
    "name": "ipython",
    "version": 3
   },
   "file_extension": ".py",
   "mimetype": "text/x-python",
   "name": "python",
   "nbconvert_exporter": "python",
   "pygments_lexer": "ipython3",
   "version": "3.8.3"
  }
 },
 "nbformat": 4,
 "nbformat_minor": 4
}
